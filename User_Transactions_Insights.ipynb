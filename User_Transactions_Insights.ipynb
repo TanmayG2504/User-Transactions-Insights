{
  "nbformat": 4,
  "nbformat_minor": 0,
  "metadata": {
    "colab": {
      "provenance": []
    },
    "kernelspec": {
      "name": "python3",
      "display_name": "Python 3"
    },
    "language_info": {
      "name": "python"
    }
  },
  "cells": [
    {
      "cell_type": "code",
      "execution_count": 2,
      "metadata": {
        "id": "8aSFXDp9n2j5",
        "colab": {
          "base_uri": "https://localhost:8080/"
        },
        "outputId": "8950d2fe-3475-4f7b-9606-1b6cb4d8ee52"
      },
      "outputs": [
        {
          "output_type": "stream",
          "name": "stderr",
          "text": [
            "<ipython-input-2-32eb496de8a6>:11: UserWarning: Parsing dates in DD/MM/YYYY format when dayfirst=False (the default) was specified. This may lead to inconsistently parsed dates! Specify a format to ensure consistent parsing.\n",
            "  df['CREATED_DATE minus Hour'] = pd.to_datetime(df['CREATED_DATE minus Hour'])\n"
          ]
        }
      ],
      "source": [
        "import pandas as pd\n",
        "import matplotlib.pyplot as plt\n",
        "import seaborn as sns\n",
        "\n",
        "# Loading the CSV file into a DataFrame\n",
        "csv_file_path = 'User Transaction.csv'\n",
        "df = pd.read_csv(csv_file_path)\n",
        "\n",
        "# Converting date columns to datetime format\n",
        "df['CREATED_DATE'] = pd.to_datetime(df['CREATED_DATE'])\n",
        "df['CREATED_DATE minus Hour'] = pd.to_datetime(df['CREATED_DATE minus Hour'])\n"
      ]
    },
    {
      "cell_type": "code",
      "source": [
        "# Transaction Trends and Patterns\n",
        "transaction_counts = df['CREATED_DATE'].dt.date.value_counts().sort_index()\n",
        "transaction_types_counts = df['TYPE'].value_counts()\n",
        "currency_counts = df['CURRENCY'].value_counts()\n",
        "hourly_patterns = df['CREATED_DATE'].dt.hour.value_counts().sort_index()"
      ],
      "metadata": {
        "id": "0qy6r_vwIkA-"
      },
      "execution_count": 4,
      "outputs": []
    },
    {
      "cell_type": "code",
      "source": [
        "# User Behavior Analysis\n",
        "user_transaction_counts = df['USER_ID'].value_counts()\n",
        "\n",
        "# Monetary Analysis\n",
        "total_transaction_value = df.groupby('CREATED_DATE').sum()['AMOUNT']\n",
        "average_transaction_amounts = df.groupby('TYPE').mean()['AMOUNT']"
      ],
      "metadata": {
        "id": "NijvzC6SIkFC",
        "colab": {
          "base_uri": "https://localhost:8080/"
        },
        "outputId": "a5ceeab3-a8bb-4ccf-b9f8-117886941235"
      },
      "execution_count": 5,
      "outputs": [
        {
          "output_type": "stream",
          "name": "stderr",
          "text": [
            "<ipython-input-5-89d8714b3b46>:5: FutureWarning: The default value of numeric_only in DataFrameGroupBy.sum is deprecated. In a future version, numeric_only will default to False. Either specify numeric_only or select only columns which should be valid for the function.\n",
            "  total_transaction_value = df.groupby('CREATED_DATE').sum()['AMOUNT']\n",
            "<ipython-input-5-89d8714b3b46>:6: FutureWarning: The default value of numeric_only in DataFrameGroupBy.mean is deprecated. In a future version, numeric_only will default to False. Either specify numeric_only or select only columns which should be valid for the function.\n",
            "  average_transaction_amounts = df.groupby('TYPE').mean()['AMOUNT']\n"
          ]
        }
      ]
    },
    {
      "cell_type": "code",
      "source": [
        "# Temporal Analysis\n",
        "day_of_week_distribution = df['CREATED_DATE'].dt.day_name().value_counts()\n",
        "hourly_analysis = df.groupby(['CREATED_DATE', 'TYPE']).size().unstack()"
      ],
      "metadata": {
        "id": "s_7fLLVgIkHq"
      },
      "execution_count": 6,
      "outputs": []
    },
    {
      "cell_type": "code",
      "source": [
        "# User Engagement\n",
        "top_transaction_types = df['TYPE'].value_counts().head(3)\n",
        "repeat_transactions = df['TRANSACTION_ID'].duplicated().sum()"
      ],
      "metadata": {
        "id": "AxXMGoc2IkJ_"
      },
      "execution_count": 7,
      "outputs": []
    },
    {
      "cell_type": "code",
      "source": [
        "print(\"Top Transaction Types:\\n\", top_transaction_types)\n",
        "print(\"\\nTotal Repeat Transactions:\", repeat_transactions)"
      ],
      "metadata": {
        "colab": {
          "base_uri": "https://localhost:8080/"
        },
        "id": "8Q-Tr97bIkOK",
        "outputId": "63876fde-495b-4683-b8f0-d7b091b65cab"
      },
      "execution_count": 10,
      "outputs": [
        {
          "output_type": "stream",
          "name": "stdout",
          "text": [
            "Top Transaction Types:\n",
            " TOPUP            2373\n",
            "BANK_TRANSFER    2371\n",
            "ATM              2357\n",
            "Name: TYPE, dtype: int64\n",
            "\n",
            "Total Repeat Transactions: 0\n"
          ]
        }
      ]
    },
    {
      "cell_type": "code",
      "source": [
        "# Transaction Trends and Patterns\n",
        "total_transactions = len(df)\n",
        "transaction_types_counts = df['TYPE'].value_counts()\n",
        "currency_counts = df['CURRENCY'].value_counts()\n",
        "hourly_patterns = df['CREATED_DATE'].dt.hour.value_counts().sort_index()\n",
        "\n",
        "# User Behavior Analysis\n",
        "unique_users = df['USER_ID'].nunique()\n",
        "average_transactions_per_user = total_transactions / unique_users\n",
        "\n",
        "# Monetary Analysis\n",
        "total_transaction_value = df['AMOUNT'].sum()\n",
        "average_transaction_amount = df['AMOUNT'].mean()\n",
        "\n",
        "# Temporal Analysis\n",
        "most_common_day_of_week = df['CREATED_DATE'].dt.day_name().value_counts().idxmax()\n",
        "hourly_peak_time = df['CREATED_DATE'].dt.hour.value_counts().idxmax()\n",
        "\n",
        "# User Engagement\n",
        "top_transaction_type = transaction_types_counts.idxmax()\n",
        "repeat_transactions = df['TRANSACTION_ID'].duplicated().sum()\n",
        "repeat_transactions_percentage = (repeat_transactions / total_transactions) * 100\n",
        "\n",
        "# Print Results\n",
        "print(\"Transaction Trends and Patterns:\")\n",
        "print(\"Total Transactions:\", total_transactions)\n",
        "print(\"Currency Usage Counts:\\n\", currency_counts)\n",
        "print(\"Hourly Patterns:\\n\", hourly_patterns)\n",
        "print(\"\\nUser Behavior Analysis:\")\n",
        "print(\"Unique Users:\", unique_users)\n",
        "print(\"Average Transactions per User:\", average_transactions_per_user)\n",
        "print(\"\\nMonetary Analysis:\")\n",
        "print(\"Total Transaction Value:\", total_transaction_value)\n",
        "print(\"Average Transaction Amount:\", average_transaction_amount)\n",
        "print(\"\\nTemporal Analysis:\")\n",
        "print(\"Most Common Day of the Week:\", most_common_day_of_week)\n",
        "print(\"Hourly Peak Time:\", hourly_peak_time)\n",
        "print(\"\\nUser Engagement:\")\n",
        "print(\"Top Transaction Type:\", top_transaction_type)\n",
        "print(\"Repeat Transactions:\", repeat_transactions)\n",
        "print(\"Repeat Transactions Percentage: {:.2f}%\".format(repeat_transactions_percentage))"
      ],
      "metadata": {
        "colab": {
          "base_uri": "https://localhost:8080/"
        },
        "id": "mrx9asAhemwq",
        "outputId": "4d1f989b-9b25-4a1c-8040-8a7f6c90b1fb"
      },
      "execution_count": 14,
      "outputs": [
        {
          "output_type": "stream",
          "name": "stdout",
          "text": [
            "Transaction Trends and Patterns:\n",
            "Total Transactions: 10000\n",
            "Currency Usage Counts:\n",
            " GBP    5149\n",
            "EUR    4851\n",
            "Name: CURRENCY, dtype: int64\n",
            "Hourly Patterns:\n",
            " 0     210\n",
            "1     204\n",
            "2     172\n",
            "3     181\n",
            "4     144\n",
            "5     199\n",
            "6     250\n",
            "7     364\n",
            "8     442\n",
            "9     474\n",
            "10    550\n",
            "11    555\n",
            "12    650\n",
            "13    598\n",
            "14    592\n",
            "15    602\n",
            "16    595\n",
            "17    620\n",
            "18    584\n",
            "19    538\n",
            "20    471\n",
            "21    397\n",
            "22    338\n",
            "23    270\n",
            "Name: CREATED_DATE, dtype: int64\n",
            "\n",
            "User Behavior Analysis:\n",
            "Unique Users: 1134\n",
            "Average Transactions per User: 8.818342151675486\n",
            "\n",
            "Monetary Analysis:\n",
            "Total Transaction Value: 1757681.6300000001\n",
            "Average Transaction Amount: 175.76816300000002\n",
            "\n",
            "Temporal Analysis:\n",
            "Most Common Day of the Week: Friday\n",
            "Hourly Peak Time: 12\n",
            "\n",
            "User Engagement:\n",
            "Top Transaction Type: TOPUP\n",
            "Repeat Transactions: 0\n",
            "Repeat Transactions Percentage: 0.00%\n"
          ]
        }
      ]
    },
    {
      "cell_type": "code",
      "source": [
        "# Identifying top transaction users\n",
        "top_transaction_users = df['USER_ID'].value_counts().head(10)\n",
        "\n",
        "# Calculating total transaction value by currency\n",
        "total_transaction_value_by_currency = df.groupby('CURRENCY')['AMOUNT'].sum()\n",
        "\n",
        "# Calculate average transaction amount by type\n",
        "average_transaction_amount_by_type = df.groupby('TYPE')['AMOUNT'].mean()\n",
        "\n",
        "# Identify common hours for each transaction type\n",
        "common_hours_by_type = df.groupby('TYPE')['CREATED_DATE'].apply(lambda x: x.dt.hour.value_counts().idxmax())\n",
        "\n",
        "# Print Results\n",
        "print(\"Top Transaction Users:\\n\", top_transaction_users)\n",
        "print(\"\\nTotal Transaction Value by Currency:\\n\", total_transaction_value_by_currency)\n",
        "print(\"\\nAverage Transaction Amount by Type:\\n\", average_transaction_amount_by_type)\n",
        "print(\"\\nCommon Hours by Transaction Type:\\n\", common_hours_by_type)"
      ],
      "metadata": {
        "colab": {
          "base_uri": "https://localhost:8080/"
        },
        "id": "mz5_rHM4fSv8",
        "outputId": "4ea789ab-4b65-48bf-9dc6-34213e6b5a90"
      },
      "execution_count": 15,
      "outputs": [
        {
          "output_type": "stream",
          "name": "stdout",
          "text": [
            "Top Transaction Users:\n",
            " 06bb2d68-bf61-4030-8447-9de64d3ce490    132\n",
            "d35f19f3-d9ad-48bf-bd1e-90f3ba4f0b98    103\n",
            "d1bc3cd6-154e-479f-8957-a69cdf414462     95\n",
            "0fe472c9-cf3e-4e43-90f3-a0cfb6a4f1f0     85\n",
            "65ac0928-e17d-4636-96f4-ebe6bdb9c98d     84\n",
            "59d3efe9-135b-4b44-ac59-80a13da8109a     78\n",
            "20100a1d-12bc-41ed-a5e1-bc46216e9696     78\n",
            "84e22e7f-f2ab-413c-969a-667c78d8885c     77\n",
            "f54baeeb-7282-4d23-9bb7-e8396ce1b159     65\n",
            "26e8432c-5fdb-4b67-82e6-18f341d511a1     61\n",
            "Name: USER_ID, dtype: int64\n",
            "\n",
            "Total Transaction Value by Currency:\n",
            " CURRENCY\n",
            "EUR    852363.35\n",
            "GBP    905318.28\n",
            "Name: AMOUNT, dtype: float64\n",
            "\n",
            "Average Transaction Amount by Type:\n",
            " TYPE\n",
            "ATM              174.670641\n",
            "BANK_TRANSFER    176.661674\n",
            "CARD_PAYMENT     178.431118\n",
            "P2P_TRANSFER     177.667840\n",
            "TOPUP            172.896928\n",
            "Name: AMOUNT, dtype: float64\n",
            "\n",
            "Common Hours by Transaction Type:\n",
            " TYPE\n",
            "ATM              16\n",
            "BANK_TRANSFER    12\n",
            "CARD_PAYMENT     12\n",
            "P2P_TRANSFER     16\n",
            "TOPUP            13\n",
            "Name: CREATED_DATE, dtype: int64\n"
          ]
        }
      ]
    },
    {
      "cell_type": "code",
      "source": [
        "# Extract month and year from CREATED_DATE\n",
        "df['Month'] = df['CREATED_DATE'].dt.month\n",
        "df['Year'] = df['CREATED_DATE'].dt.year\n",
        "\n",
        "# Group by TYPE and Month, and count occurrences\n",
        "transaction_type_month_counts = df.groupby(['TYPE', 'Year', 'Month']).size().reset_index(name='Count')\n",
        "\n",
        "# Find the most used transaction type in each month\n",
        "most_used_in_month = transaction_type_month_counts.groupby(['Year', 'Month'])['Count'].idxmax()\n",
        "most_used_transaction_types = transaction_type_month_counts.loc[most_used_in_month]\n",
        "\n",
        "# Print Results\n",
        "print(\"Most Used Transaction Types in Each Month:\")\n",
        "print(most_used_transaction_types)"
      ],
      "metadata": {
        "colab": {
          "base_uri": "https://localhost:8080/"
        },
        "id": "ewulrlfAmBZt",
        "outputId": "6122ab2a-a931-4b74-9f58-a764cf4fc0bb"
      },
      "execution_count": 17,
      "outputs": [
        {
          "output_type": "stream",
          "name": "stdout",
          "text": [
            "Most Used Transaction Types in Each Month:\n",
            "             TYPE  Year  Month  Count\n",
            "13  BANK_TRANSFER  2016      1     62\n",
            "14  BANK_TRANSFER  2016      2     76\n",
            "54          TOPUP  2016      3    133\n",
            "16  BANK_TRANSFER  2016      4    123\n",
            "17  BANK_TRANSFER  2016      5    156\n",
            "31   CARD_PAYMENT  2016      6    156\n",
            "58          TOPUP  2016      7    225\n",
            "7             ATM  2016      8    290\n",
            "21  BANK_TRANSFER  2016      9    268\n",
            "35   CARD_PAYMENT  2016     10    290\n",
            "10            ATM  2016     11    308\n",
            "63          TOPUP  2016     12    326\n",
            "38   CARD_PAYMENT  2017      1     85\n"
          ]
        }
      ]
    },
    {
      "cell_type": "code",
      "source": [
        "# Group by TYPE and CURRENCY, and count occurrences\n",
        "transactions_by_type_currency = df.groupby(['TYPE', 'CURRENCY']).size().reset_index(name='Count')\n",
        "\n",
        "# Pivot the table for better visualization\n",
        "transactions_pivot = transactions_by_type_currency.pivot(index='TYPE', columns='CURRENCY', values='Count')\n",
        "\n",
        "# Print Results\n",
        "print(\"Number of Transactions by Currency for Each Transaction Type:\")\n",
        "print(transactions_pivot)"
      ],
      "metadata": {
        "colab": {
          "base_uri": "https://localhost:8080/"
        },
        "id": "vq9V93HnodfQ",
        "outputId": "64dbd933-4311-4bf1-984f-93ed49aae6e3"
      },
      "execution_count": 19,
      "outputs": [
        {
          "output_type": "stream",
          "name": "stdout",
          "text": [
            "Number of Transactions by Currency for Each Transaction Type:\n",
            "CURRENCY        EUR   GBP\n",
            "TYPE                     \n",
            "ATM            1209  1148\n",
            "BANK_TRANSFER  1181  1190\n",
            "CARD_PAYMENT   1147  1178\n",
            "P2P_TRANSFER    105   469\n",
            "TOPUP          1209  1164\n"
          ]
        }
      ]
    },
    {
      "cell_type": "code",
      "source": [
        "# Calculate the earliest transaction date for each user\n",
        "earliest_transaction_date = df.groupby('USER_ID')['CREATED_DATE'].min()\n",
        "\n",
        "# Calculate the last transaction date for each user\n",
        "latest_transaction_date = df.groupby('USER_ID')['CREATED_DATE'].max()\n",
        "\n",
        "# Calculate the total number of active users\n",
        "total_active_users = len(earliest_transaction_date)\n",
        "\n",
        "# Calculate the number of users who made transactions in the last 30 days\n",
        "active_users_30_days = (latest_transaction_date >= latest_transaction_date.max() - pd.DateOffset(days=30)).sum()\n",
        "\n",
        "# Calculate the retention rate (percentage of users retained)\n",
        "retention_rate = (active_users_30_days / total_active_users) * 100\n",
        "\n",
        "# Calculate the churn rate (percentage of users who have not made transactions in the last 30 days)\n",
        "churn_rate = 100 - retention_rate\n",
        "\n",
        "# Print Results\n",
        "print(\"Total Active Users:\", total_active_users)\n",
        "print(\"Active Users in the Last 30 Days:\", active_users_30_days)\n",
        "print(\"Retention Rate:\", retention_rate, \"%\")\n",
        "print(\"Churn Rate:\", churn_rate, \"%\")"
      ],
      "metadata": {
        "colab": {
          "base_uri": "https://localhost:8080/"
        },
        "id": "iTpq5xyOpha3",
        "outputId": "71a09d74-a0a2-485f-fee1-44678f31787f"
      },
      "execution_count": 20,
      "outputs": [
        {
          "output_type": "stream",
          "name": "stdout",
          "text": [
            "Total Active Users: 1134\n",
            "Active Users in the Last 30 Days: 400\n",
            "Retention Rate: 35.273368606701936 %\n",
            "Churn Rate: 64.72663139329806 %\n"
          ]
        }
      ]
    },
    {
      "cell_type": "code",
      "source": [
        "# Resample data by day\n",
        "daily_transactions = df.resample('D', on='CREATED_DATE').size()\n",
        "\n",
        "# Resample data by month\n",
        "monthly_transactions = df.resample('M', on='CREATED_DATE').size()\n",
        "\n",
        "# Calculateing total amount of transaction in each analysis\n",
        "monthly_total_amount = df.resample('M', on='CREATED_DATE')['AMOUNT'].sum()\n",
        "\n",
        "# Printing Results for Monthly Analysis\n",
        "print(\"Monthly Analysis - Total Number of Transactions:\")\n",
        "print(monthly_transactions)\n",
        "print(\"Total Amount of Transactions for Each Month:\")\n",
        "print(monthly_total_amount)"
      ],
      "metadata": {
        "colab": {
          "base_uri": "https://localhost:8080/"
        },
        "id": "ndsl95F0ZH5w",
        "outputId": "fff779dd-5a94-4f4f-c376-6a7267f25a2a"
      },
      "execution_count": 26,
      "outputs": [
        {
          "output_type": "stream",
          "name": "stdout",
          "text": [
            "Monthly Analysis - Total Number of Transactions:\n",
            "CREATED_DATE\n",
            "2016-01-31     214\n",
            "2016-02-29     284\n",
            "2016-03-31     520\n",
            "2016-04-30     497\n",
            "2016-05-31     605\n",
            "2016-06-30     628\n",
            "2016-07-31     925\n",
            "2016-08-31    1212\n",
            "2016-09-30    1080\n",
            "2016-10-31    1215\n",
            "2016-11-30    1196\n",
            "2016-12-31    1286\n",
            "2017-01-31     338\n",
            "Freq: M, dtype: int64\n",
            "Total Amount of Transactions for Each Month:\n",
            "CREATED_DATE\n",
            "2016-01-31     39770.76\n",
            "2016-02-29     49187.05\n",
            "2016-03-31     89913.79\n",
            "2016-04-30     89205.21\n",
            "2016-05-31    101119.93\n",
            "2016-06-30    112184.74\n",
            "2016-07-31    164267.46\n",
            "2016-08-31    215464.57\n",
            "2016-09-30    186118.78\n",
            "2016-10-31    217211.74\n",
            "2016-11-30    211112.65\n",
            "2016-12-31    223443.87\n",
            "2017-01-31     58681.08\n",
            "Freq: M, Name: AMOUNT, dtype: float64\n"
          ]
        }
      ]
    },
    {
      "cell_type": "code",
      "source": [
        "# Calculating total transaction amount by TYPE and CURRENCY\n",
        "total_amount_by_type_currency = df.groupby(['TYPE', 'CURRENCY'])['AMOUNT'].sum()\n",
        "\n",
        "# Printing the results\n",
        "print(\"Total Transaction Amount by TYPE and CURRENCY\")\n",
        "print(total_amount_by_type_currency)"
      ],
      "metadata": {
        "colab": {
          "base_uri": "https://localhost:8080/"
        },
        "id": "Ff-jm_r2ZD8l",
        "outputId": "cd6a907f-3fd1-407d-ff5b-4fc2c20cc077"
      },
      "execution_count": 25,
      "outputs": [
        {
          "output_type": "stream",
          "name": "stdout",
          "text": [
            "Total Transaction Amount by TYPE and CURRENCY\n",
            "TYPE           CURRENCY\n",
            "ATM            EUR         213140.45\n",
            "               GBP         198558.25\n",
            "BANK_TRANSFER  EUR         205127.11\n",
            "               GBP         213737.72\n",
            "CARD_PAYMENT   EUR         210115.77\n",
            "               GBP         204736.58\n",
            "P2P_TRANSFER   EUR          19905.82\n",
            "               GBP          82075.52\n",
            "TOPUP          EUR         204074.20\n",
            "               GBP         206210.21\n",
            "Name: AMOUNT, dtype: float64\n"
          ]
        }
      ]
    }
  ]
}